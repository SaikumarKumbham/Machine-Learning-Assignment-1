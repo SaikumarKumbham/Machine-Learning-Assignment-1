{
 "cells": [
  {
   "cell_type": "code",
   "execution_count": 3,
   "id": "d96e3d4f",
   "metadata": {},
   "outputs": [],
   "source": [
    "\n",
    "ages = [19, 22, 19, 24, 20, 25, 26, 24, 25, 24]"
   ]
  },
  {
   "cell_type": "code",
   "execution_count": 4,
   "id": "4c4ebd81",
   "metadata": {},
   "outputs": [
    {
     "data": {
      "text/plain": [
       "list"
      ]
     },
     "execution_count": 4,
     "metadata": {},
     "output_type": "execute_result"
    }
   ],
   "source": [
    "type(ages)"
   ]
  },
  {
   "cell_type": "code",
   "execution_count": 8,
   "id": "bc840e91",
   "metadata": {},
   "outputs": [],
   "source": [
    "ages.sort()"
   ]
  },
  {
   "cell_type": "code",
   "execution_count": 10,
   "id": "7f7a5ca1",
   "metadata": {},
   "outputs": [
    {
     "name": "stdout",
     "output_type": "stream",
     "text": [
      "[19, 19, 20, 22, 24, 24, 24, 25, 25, 26]\n"
     ]
    }
   ],
   "source": [
    "print(ages)\n"
   ]
  },
  {
   "cell_type": "code",
   "execution_count": 11,
   "id": "335b37e8",
   "metadata": {},
   "outputs": [
    {
     "name": "stdout",
     "output_type": "stream",
     "text": [
      "19\n"
     ]
    }
   ],
   "source": [
    "#Program to find min and max for the variable age\n",
    "print(min(ages))"
   ]
  },
  {
   "cell_type": "code",
   "execution_count": 12,
   "id": "1c577b55",
   "metadata": {},
   "outputs": [
    {
     "name": "stdout",
     "output_type": "stream",
     "text": [
      "26\n"
     ]
    }
   ],
   "source": [
    "#Program to find min and max for the variable age\n",
    "print(max(ages))"
   ]
  },
  {
   "cell_type": "code",
   "execution_count": 15,
   "id": "442a4219",
   "metadata": {},
   "outputs": [],
   "source": [
    "ages.append(min(ages))"
   ]
  },
  {
   "cell_type": "code",
   "execution_count": 16,
   "id": "63ea3d10",
   "metadata": {},
   "outputs": [
    {
     "name": "stdout",
     "output_type": "stream",
     "text": [
      "[19, 19, 20, 22, 24, 24, 24, 25, 25, 26, 19]\n"
     ]
    }
   ],
   "source": [
    "print(ages)"
   ]
  },
  {
   "cell_type": "code",
   "execution_count": 18,
   "id": "f1b1959b",
   "metadata": {},
   "outputs": [],
   "source": [
    "ages.append(max(ages))"
   ]
  },
  {
   "cell_type": "code",
   "execution_count": 19,
   "id": "28069564",
   "metadata": {},
   "outputs": [
    {
     "name": "stdout",
     "output_type": "stream",
     "text": [
      "[19, 19, 20, 22, 24, 24, 24, 25, 25, 26, 19, 26, 26]\n"
     ]
    }
   ],
   "source": [
    "print(ages)"
   ]
  },
  {
   "cell_type": "code",
   "execution_count": 31,
   "id": "0ac980a9",
   "metadata": {},
   "outputs": [
    {
     "name": "stdout",
     "output_type": "stream",
     "text": [
      "[19, 19, 20, 22, 24, 24, 24, 25, 25, 26]\n",
      "The Sorted List is : [19, 19, 20, 22, 24, 24, 24, 25, 25, 26]\n",
      "Median of list is : 24.0\n"
     ]
    }
   ],
   "source": [
    "ages = [19, 22, 19, 24, 20, 25, 26, 24, 25, 24]\n",
    "\n",
    "#sorting the list to find the Median\n",
    "\n",
    "ages.sort()\n",
    "\n",
    "print(ages)\n",
    "  \n",
    "# printing list\n",
    "print(\"The Sorted List is : \" + str(ages))\n",
    "  \n",
    "  \n",
    "# Median of the provided list is Given Below\n",
    "\n",
    "# Using loop + \"~\" operator\n",
    "midValue = len(ages) // 2\n",
    "result = (ages[midValue] + ages[~midValue]) / 2\n",
    "  \n",
    "# Printing result\n",
    "print(\"Median of list is : \" + str(result))"
   ]
  },
  {
   "cell_type": "code",
   "execution_count": 32,
   "id": "40723dc5",
   "metadata": {},
   "outputs": [
    {
     "name": "stdout",
     "output_type": "stream",
     "text": [
      "228\n"
     ]
    }
   ],
   "source": [
    "print(sum(ages))"
   ]
  },
  {
   "cell_type": "code",
   "execution_count": 34,
   "id": "cabd44a2",
   "metadata": {},
   "outputs": [
    {
     "name": "stdout",
     "output_type": "stream",
     "text": [
      "22.8\n"
     ]
    }
   ],
   "source": [
    "print(sum(ages)/len(ages))#Average Of the List"
   ]
  },
  {
   "cell_type": "code",
   "execution_count": 36,
   "id": "bd613c44",
   "metadata": {},
   "outputs": [
    {
     "name": "stdout",
     "output_type": "stream",
     "text": [
      "[19, 19, 20, 22, 24, 24, 24, 25, 25, 26]\n",
      "19\n",
      "26\n"
     ]
    }
   ],
   "source": [
    "ages = [19, 22, 19, 24, 20, 25, 26, 24, 25, 24]\n",
    "ages.sort()\n",
    "print(ages)\n",
    "print(ages[0])#Minimum value\n",
    "print(ages[9])#Maximum value"
   ]
  },
  {
   "cell_type": "code",
   "execution_count": null,
   "id": "19798823",
   "metadata": {},
   "outputs": [],
   "source": [
    "#Question -2\n"
   ]
  },
  {
   "cell_type": "code",
   "execution_count": 37,
   "id": "59eba13b",
   "metadata": {},
   "outputs": [
    {
     "name": "stdout",
     "output_type": "stream",
     "text": [
      "<class 'dict'>\n"
     ]
    }
   ],
   "source": [
    "#Empty Dictionary\n",
    "dog={}\n",
    "print(type(dog))"
   ]
  },
  {
   "cell_type": "code",
   "execution_count": 41,
   "id": "b4645937",
   "metadata": {},
   "outputs": [
    {
     "name": "stdout",
     "output_type": "stream",
     "text": [
      "{'name': 'Adisi', 'color': 'Brown', 'Breed': 'Labrador', 'legs': 'short', 'age': 4}\n",
      "Adisi\n"
     ]
    }
   ],
   "source": [
    "dog={'name':'Adisi','color':'Brown','Breed':'Labrador','legs':'short','age':4}\n",
    "print(dog)\n",
    "print(dog['name'])"
   ]
  },
  {
   "cell_type": "code",
   "execution_count": 62,
   "id": "c805e597",
   "metadata": {
    "scrolled": true
   },
   "outputs": [
    {
     "name": "stdout",
     "output_type": "stream",
     "text": [
      "{'first_name': 'Aditya Sai Varma', 'last_name': 'Saripalli', 'gender': 'Male', 'age': 21, 'martial status': 'Single', 'skills': ['c', 'Python', 'Java', 'SQL'], 'country': 'USA', 'city': 'Overland Park', 'address': '8601 W 131st Ter Overland Prk Kansas 66213'}\n",
      "Aditya Sai Varma\n",
      "9\n",
      "['c', 'Python', 'Java', 'SQL']\n",
      "<class 'str'>\n",
      "['s', 'k', 'i', 'l', 'l', 's']\n",
      "<class 'str'>\n"
     ]
    }
   ],
   "source": [
    "MyDict={'first_name':'Aditya Sai Varma', 'last_name':'Saripalli' , 'gender':'Male', 'age':21, 'martial status':\"Single\", 'skills':['c','Python','Java','SQL'],'country':'USA', 'city': 'Overland Park', 'address':'8601 W 131st Ter Overland Prk Kansas 66213'}\n",
    "print(MyDict)\n",
    "print(MyDict['first_name'])\n",
    "print(len(MyDict))\n",
    "print(MyDict['skills'])\n",
    "print(type('skills'))\n",
    "print(list('skills'))\n",
    "print(type('skills'))"
   ]
  },
  {
   "cell_type": "code",
   "execution_count": 8,
   "id": "6c3ac5c1",
   "metadata": {},
   "outputs": [
    {
     "ename": "TypeError",
     "evalue": "unhashable type: 'list'",
     "output_type": "error",
     "traceback": [
      "\u001b[0;31m---------------------------------------------------------------------------\u001b[0m",
      "\u001b[0;31mTypeError\u001b[0m                                 Traceback (most recent call last)",
      "Input \u001b[0;32mIn [8]\u001b[0m, in \u001b[0;36m<cell line: 2>\u001b[0;34m()\u001b[0m\n\u001b[1;32m      1\u001b[0m skills\u001b[38;5;241m=\u001b[39m[]\n\u001b[0;32m----> 2\u001b[0m MyDict\u001b[38;5;241m=\u001b[39m{\u001b[38;5;124m'\u001b[39m\u001b[38;5;124mfirst_name\u001b[39m\u001b[38;5;124m'\u001b[39m:\u001b[38;5;124m'\u001b[39m\u001b[38;5;124mAditya Sai Varma\u001b[39m\u001b[38;5;124m'\u001b[39m, \u001b[38;5;124m'\u001b[39m\u001b[38;5;124mlast_name\u001b[39m\u001b[38;5;124m'\u001b[39m:\u001b[38;5;124m'\u001b[39m\u001b[38;5;124mSaripalli\u001b[39m\u001b[38;5;124m'\u001b[39m , \u001b[38;5;124m'\u001b[39m\u001b[38;5;124mgender\u001b[39m\u001b[38;5;124m'\u001b[39m:\u001b[38;5;124m'\u001b[39m\u001b[38;5;124mMale\u001b[39m\u001b[38;5;124m'\u001b[39m, \u001b[38;5;124m'\u001b[39m\u001b[38;5;124mage\u001b[39m\u001b[38;5;124m'\u001b[39m:\u001b[38;5;241m21\u001b[39m, \u001b[38;5;124m'\u001b[39m\u001b[38;5;124mmartial status\u001b[39m\u001b[38;5;124m'\u001b[39m:\u001b[38;5;124m\"\u001b[39m\u001b[38;5;124mSingle\u001b[39m\u001b[38;5;124m\"\u001b[39m, \n\u001b[1;32m      3\u001b[0m         skills:[],\u001b[38;5;124m'\u001b[39m\u001b[38;5;124mcountry\u001b[39m\u001b[38;5;124m'\u001b[39m:\u001b[38;5;124m'\u001b[39m\u001b[38;5;124mUSA\u001b[39m\u001b[38;5;124m'\u001b[39m, \u001b[38;5;124m'\u001b[39m\u001b[38;5;124mcity\u001b[39m\u001b[38;5;124m'\u001b[39m: \u001b[38;5;124m'\u001b[39m\u001b[38;5;124mOverland Park\u001b[39m\u001b[38;5;124m'\u001b[39m, \u001b[38;5;124m'\u001b[39m\u001b[38;5;124maddress\u001b[39m\u001b[38;5;124m'\u001b[39m:\u001b[38;5;124m'\u001b[39m\u001b[38;5;124m8601 W 131st Ter Overland Prk Kansas 66213\u001b[39m\u001b[38;5;124m'\u001b[39m}\n\u001b[1;32m      4\u001b[0m MyDict[skills]\u001b[38;5;241m+\u001b[39m\u001b[38;5;241m=\u001b[39m[\u001b[38;5;124m'\u001b[39m\u001b[38;5;124mc\u001b[39m\u001b[38;5;124m'\u001b[39m,\u001b[38;5;124m'\u001b[39m\u001b[38;5;124mPython\u001b[39m\u001b[38;5;124m'\u001b[39m,\u001b[38;5;124m'\u001b[39m\u001b[38;5;124mJava\u001b[39m\u001b[38;5;124m'\u001b[39m,\u001b[38;5;124m'\u001b[39m\u001b[38;5;124mSQL\u001b[39m\u001b[38;5;124m'\u001b[39m]\n\u001b[1;32m      5\u001b[0m \u001b[38;5;28mprint\u001b[39m(MyDict)\n",
      "\u001b[0;31mTypeError\u001b[0m: unhashable type: 'list'"
     ]
    }
   ],
   "source": [
    "skills=[]\n",
    "MyDict={'first_name':'Aditya Sai Varma', 'last_name':'Saripalli' , 'gender':'Male', 'age':21, 'martial status':\"Single\", \n",
    "        skills:[],'country':'USA', 'city': 'Overland Park', 'address':'8601 W 131st Ter Overland Prk Kansas 66213'}\n",
    "MyDict[skills]+=['c','Python','Java','SQL']\n",
    "print(MyDict)\n",
    "print(type(skills))"
   ]
  },
  {
   "cell_type": "code",
   "execution_count": 11,
   "id": "0e564291",
   "metadata": {},
   "outputs": [
    {
     "name": "stdout",
     "output_type": "stream",
     "text": [
      "The Added vakues in the List are: {'first_name': 'Aditya Sai Varma', 'last_name': 'Saripalli', 'gender': 'Male', 'age': 21, 'martial status': 'Single', 'skills': ['c', 'Python', 'Java', 'SQL', 'AWS', 'Java-Script'], 'country': 'USA', 'city': 'Overland Park', 'address': '8601 W 131st Ter Overland Prk Kansas 66213'}\n"
     ]
    }
   ],
   "source": [
    "MyDict={'first_name':'Aditya Sai Varma', 'last_name':'Saripalli' , 'gender':'Male', 'age':21, 'martial status':\"Single\", 'skills':['c','Python','Java','SQL'],'country':'USA', 'city': 'Overland Park', 'address':'8601 W 131st Ter Overland Prk Kansas 66213'}\n",
    "MyDict['skills'].append('AWS')\n",
    "MyDict['skills'].append('Java-Script')\n",
    "print(\"The Added vakues in the List are:\",MyDict)"
   ]
  },
  {
   "cell_type": "code",
   "execution_count": 14,
   "id": "3085f4ae",
   "metadata": {},
   "outputs": [
    {
     "name": "stdout",
     "output_type": "stream",
     "text": [
      "dict_keys(['first_name', 'last_name', 'gender', 'age', 'martial status', 'skills', 'country', 'city', 'address'])\n",
      "dict_values(['Aditya Sai Varma', 'Saripalli', 'Male', 21, 'Single', ['c', 'Python', 'Java', 'SQL'], 'USA', 'Overland Park', '8601 W 131st Ter Overland Prk Kansas 66213'])\n"
     ]
    }
   ],
   "source": [
    "MyDict={'first_name':'Aditya Sai Varma', 'last_name':'Saripalli' , 'gender':'Male', 'age':21, 'martial status':\"Single\", 'skills':['c','Python','Java','SQL'],'country':'USA', 'city': 'Overland Park', 'address':'8601 W 131st Ter Overland Prk Kansas 66213'}\n",
    "print(MyDict.keys())#Here we are accesing keys from MyDict\n",
    "print(MyDict.values())"
   ]
  },
  {
   "cell_type": "code",
   "execution_count": null,
   "id": "8b10d2cc",
   "metadata": {},
   "outputs": [],
   "source": [
    "Question-3"
   ]
  },
  {
   "cell_type": "code",
   "execution_count": 26,
   "id": "d11379c6",
   "metadata": {},
   "outputs": [
    {
     "name": "stdout",
     "output_type": "stream",
     "text": [
      "<class 'tuple'>\n",
      "The People in the Tuple are : ('Mahitha', 'Suma', 'JayaSree')\n",
      "The People in the Tuple are: ('Hemanth', 'Vikranth', 'Chaitanya')\n",
      "On a Whole my Sibilings are : ('Mahitha', 'Suma', 'JayaSree', 'Hemanth', 'Vikranth', 'Chaitanya')\n",
      "Lenght of the tuple named sibilings is : 6\n",
      "The Name of my parents are : ('Mohana Venkata Siva Rama Raju', 'Rupa Devi')\n",
      "The names of my Family members are: ('Mahitha', 'Suma', 'JayaSree', 'Hemanth', 'Vikranth', 'Chaitanya', 'Mohana Venkata Siva Rama Raju', 'Rupa Devi')\n"
     ]
    }
   ],
   "source": [
    "MySisters=('Mahitha','Suma','JayaSree')\n",
    "print(type(MySisters))\n",
    "print(\"The People in the Tuple are :\",MySisters)\n",
    "MyBrothers=(\"Hemanth\",\"Vikranth\",\"Chaitanya\")\n",
    "print(\"The People in the Tuple are:\",MyBrothers)\n",
    "sibilings = MySisters+MyBrothers\n",
    "print(\"On a Whole my Sibilings are :\",sibilings)\n",
    "print(\"Lenght of the tuple named sibilings is :\",len(sibilings))\n",
    "MyParentNames=(\"Mohana Venkata Siva Rama Raju\",\"Rupa Devi\")\n",
    "print(\"The Name of my parents are :\",MyParentNames)\n",
    "family_members=sibilings+MyParentNames\n",
    "print(\"The names of my Family members are:\",family_members)\n"
   ]
  },
  {
   "cell_type": "code",
   "execution_count": null,
   "id": "b76fbc89",
   "metadata": {},
   "outputs": [],
   "source": [
    "Question-4"
   ]
  },
  {
   "cell_type": "code",
   "execution_count": 62,
   "id": "a11ffb7f",
   "metadata": {},
   "outputs": [
    {
     "name": "stdout",
     "output_type": "stream",
     "text": [
      "7\n",
      "It Companies are : {'Google', 'Microsoft', 'IBM', 'Twitter', 'Apple', 'Oracle', 'Amazon', 'Facebook'}\n",
      "Names of the Multiple Company names which are added to the Original One : {'TCS', 'DBS', 'NCR', 'Oracle', 'IBM', 'Infosys', 'Apple', 'Google', 'Microsoft', 'Amazon', 'Facebook', 'Twitter'}\n",
      "Joining the sets of A and will be : {19, 20, 22, 24, 25, 26, 27, 28}\n",
      "Intersection of the sets A and B is : {19, 20, 22, 24, 25, 26}\n",
      "Finding Whether A is Subset of B? (T/F): True\n",
      "Finding Whether A and B are Disjoint sets or not? False\n",
      "The Symmetric difference between the two sets A And are: {27, 28}\n",
      "<class 'list'>\n",
      "{19, 20, 22, 24, 25, 26}\n",
      "<class 'list'>\n",
      "The Lenght of list and set are not same\n"
     ]
    }
   ],
   "source": [
    "it_companies = {'Facebook', 'Google', 'Microsoft', 'Apple', 'IBM', 'Oracle', 'Amazon'}\n",
    "print(len(it_companies))\n",
    "it_companies.add(\"Twitter\")\n",
    "print(\"It Companies are :\",it_companies)#Here in Set while adding the items in it, it randomly allocates its place anywhere in the set\n",
    "it_companies.update([\"DBS\",\"NCR\",\"TCS\",\"Infosys\"])#Here in Set as add() only supports only one argument we woiuld be using update() to add multiple items\n",
    "print(\"Names of the Multiple Company names which are added to the Original One :\",it_companies)\n",
    "it_companies.remove(\"Twitter\")#Here for removing a particualr element we would be using remove() ,to remove a random element we would be using pop() method\n",
    "A = {19, 22, 24, 20, 25, 26}\n",
    "B = {19, 22, 20, 25, 26, 24, 28, 27}\n",
    "Res=A.union(B)\n",
    "print(\"Joining the sets of A and will be :\",Res)#Here Union Combines all the elements in the two sets which doesnt include the duplicates in both of the sets\n",
    "Res1=A.intersection(B)\n",
    "print(\"Intersection of the sets A and B is :\",Res1)#It returns the common items present in the two sets\n",
    "print(\"Finding Whether A is Subset of B? (T/F):\",A.issubset(B))#Here as all the elements in  A are in B we can say that A is Subset of B,if it isnt true then issubset() return false basically it returns Boolean Values based on the Context\n",
    "print(\"Finding Whether A and B are Disjoint sets or not?\",A.isdisjoint(B))#Here it is false because there are similar items that are present in the both of the sets.The main Criteria for Disjoint Sets is that it shouldn't have common items present.\n",
    "print(\"The Symmetric difference between the two sets A And are:\",B.symmetric_difference(A))\n",
    "#It Basically caluculates{(A\\B)∪(B\\A)} to find Symmetric Difference\n",
    "ages = [19, 22, 19, 24, 20, 25, 26, 24, 25, 24]\n",
    "print(type(ages))\n",
    "print(set(ages))\n",
    "print(type(ages))#List Converted to set.\n",
    "#Below is the code for comparing the lenght for both list and set.\n",
    "if len(ages)==len(A):\n",
    "    print(\"Both the set and List are having same no of items i.e Lenght\")\n",
    "else:\n",
    "    print(\"The Lenght of list and set are not same\")\n",
    "\n"
   ]
  },
  {
   "cell_type": "code",
   "execution_count": null,
   "id": "86042255",
   "metadata": {},
   "outputs": [],
   "source": []
  },
  {
   "cell_type": "code",
   "execution_count": null,
   "id": "d2a6268c",
   "metadata": {},
   "outputs": [],
   "source": []
  },
  {
   "cell_type": "code",
   "execution_count": 58,
   "id": "cb808f3c",
   "metadata": {},
   "outputs": [
    {
     "ename": "NameError",
     "evalue": "name 'A' is not defined",
     "output_type": "error",
     "traceback": [
      "\u001b[0;31m---------------------------------------------------------------------------\u001b[0m",
      "\u001b[0;31mNameError\u001b[0m                                 Traceback (most recent call last)",
      "Input \u001b[0;32mIn [58]\u001b[0m, in \u001b[0;36m<cell line: 1>\u001b[0;34m()\u001b[0m\n\u001b[0;32m----> 1\u001b[0m \u001b[38;5;28;01mdel\u001b[39;00m A\n\u001b[1;32m      2\u001b[0m \u001b[38;5;28mprint\u001b[39m(A)\n\u001b[1;32m      3\u001b[0m \u001b[38;5;28;01mdel\u001b[39;00m B\n",
      "\u001b[0;31mNameError\u001b[0m: name 'A' is not defined"
     ]
    }
   ],
   "source": [
    "del A\n",
    "print(A)#Error\n",
    "del B\n",
    "print(B)\n",
    "#Here it has deleted the set which we have preferred so that the Python Virtual Machine cannot find the set that is present in the memory"
   ]
  },
  {
   "cell_type": "code",
   "execution_count": null,
   "id": "0c1ef180",
   "metadata": {},
   "outputs": [],
   "source": [
    "Question-5"
   ]
  },
  {
   "cell_type": "code",
   "execution_count": 76,
   "id": "70646cef",
   "metadata": {},
   "outputs": [
    {
     "name": "stdout",
     "output_type": "stream",
     "text": [
      "Area of Circle is: 2826.0\n",
      "The Circumference of the Circle  is: 188.4\n"
     ]
    }
   ],
   "source": [
    "def AreaOfCircle(radius):\n",
    "    _area_of_circle_= 3.14*radius*radius\n",
    "    print(\"Area of Circle is:\",_area_of_circle_)\n",
    "def CircumferenceOfCircle(radius):\n",
    "    _circum_of_circle_ = 2*3.14*radius\n",
    "    return _circum_of_circle_ #Return the Circum Value\n",
    "AreaOfCircle(30)\n",
    "Circumference=CircumferenceOfCircle(30)#this holds the circumference value of the circle\n",
    "print(\"The Circumference of the Circle  is:\",Circumference)\n"
   ]
  },
  {
   "cell_type": "code",
   "execution_count": 79,
   "id": "4d5e4d5f",
   "metadata": {},
   "outputs": [
    {
     "name": "stdout",
     "output_type": "stream",
     "text": [
      "Enter the radius for the Circle: 35\n",
      "Area of Circle is: 3846.5\n"
     ]
    }
   ],
   "source": [
    "Input_radius=int(input(\"Enter the radius for the Circle: \"))#Here we are converting the string input to Integer by doing Type_Casting\n",
    "def AreaOfCircle(radius):\n",
    "    _area_of_circle_= 3.14*radius*radius\n",
    "    print(\"Area of Circle is:\",_area_of_circle_)\n",
    "AreaOfCircle(Input_radius)"
   ]
  },
  {
   "cell_type": "code",
   "execution_count": null,
   "id": "b10ae8e0",
   "metadata": {},
   "outputs": [],
   "source": [
    "Question-6"
   ]
  },
  {
   "cell_type": "code",
   "execution_count": 87,
   "id": "88ad1ef4",
   "metadata": {},
   "outputs": [
    {
     "name": "stdout",
     "output_type": "stream",
     "text": [
      "Please Enter the String/Sentence I am a teacher and I love to inspire and teach people\n",
      "{'a', 'm', 'e', 'c', 'r', 'l', 'o', 'v', 's', 'h', 't', 'i', 'I', ' ', 'p', 'd', 'n'}\n",
      "['I', 'am', 'a', 'teacher', 'and', 'I', 'love', 'to', 'inspire', 'and', 'teach', 'people']\n"
     ]
    }
   ],
   "source": [
    "#Input=“I am a teacher and I love to inspire and teach people”\n",
    "string1 = input(\"Please Enter the String/Sentence \")\n",
    "Res = set(string1)#set returns the unique items in the String as it is immutable we have to store it in the variable\n",
    "print(Res)#creates set and include items\n",
    "Res1=list(string1.split())#Here i have used split() to divide the words and casted to store them in the form of a List.\n",
    "print(Res1)"
   ]
  },
  {
   "cell_type": "code",
   "execution_count": null,
   "id": "f940fc1d",
   "metadata": {},
   "outputs": [],
   "source": [
    "Question-7"
   ]
  },
  {
   "cell_type": "code",
   "execution_count": 98,
   "id": "ddaf3885",
   "metadata": {},
   "outputs": [
    {
     "name": "stdout",
     "output_type": "stream",
     "text": [
      "Name\tAge\tCountry\tCity\n",
      "Asbeneh\t 250\t Finland Helsinki\n"
     ]
    }
   ],
   "source": [
    "#Using Tab Escape Sequence character\n",
    "#Name Age Country City\n",
    " #Asabeneh 250 Finland Helsinki\n",
    "print('Name\\tAge\\tCountry\\tCity\\nAsbeneh\\t 250\\t Finland Helsinki')"
   ]
  },
  {
   "cell_type": "code",
   "execution_count": null,
   "id": "f51c447a",
   "metadata": {},
   "outputs": [],
   "source": [
    "Question-8"
   ]
  },
  {
   "cell_type": "code",
   "execution_count": 108,
   "id": "094ef5da",
   "metadata": {},
   "outputs": [
    {
     "name": "stdout",
     "output_type": "stream",
     "text": [
      "The area of circle with a radius 10 is 314 square meter.\n"
     ]
    }
   ],
   "source": [
    "radius = 10# 1st %d\n",
    "area = 3.14 * radius ** 2#Here %d represents the integer that to be displayed\n",
    "formated_string = 'The area of circle with a radius %d is %d square meter.' %(radius, area)\n",
    "print(formated_string)"
   ]
  },
  {
   "cell_type": "code",
   "execution_count": null,
   "id": "5f99cb2d",
   "metadata": {},
   "outputs": [],
   "source": [
    "Question-9"
   ]
  },
  {
   "cell_type": "code",
   "execution_count": null,
   "id": "8bc3fac6",
   "metadata": {},
   "outputs": [],
   "source": [
    "for i in range(0,4):\n",
    "   L1=[]\n",
    "   N=int(input(\"enter: \"))\n",
    "   L1.append(N)\n",
    "   print(L1)\n",
    "\n",
    "\n",
    "    \n",
    "    "
   ]
  },
  {
   "cell_type": "code",
   "execution_count": null,
   "id": "cb330417",
   "metadata": {},
   "outputs": [],
   "source": []
  },
  {
   "cell_type": "code",
   "execution_count": null,
   "id": "8ed08b24",
   "metadata": {},
   "outputs": [],
   "source": []
  },
  {
   "cell_type": "code",
   "execution_count": null,
   "id": "c00ac0f3",
   "metadata": {},
   "outputs": [],
   "source": []
  },
  {
   "cell_type": "code",
   "execution_count": null,
   "id": "de0774b7",
   "metadata": {},
   "outputs": [],
   "source": []
  },
  {
   "cell_type": "code",
   "execution_count": null,
   "id": "1fe483b9",
   "metadata": {},
   "outputs": [],
   "source": []
  },
  {
   "cell_type": "code",
   "execution_count": null,
   "id": "9afb7ddb",
   "metadata": {},
   "outputs": [],
   "source": []
  },
  {
   "cell_type": "code",
   "execution_count": null,
   "id": "ca0c3a10",
   "metadata": {},
   "outputs": [],
   "source": []
  },
  {
   "cell_type": "code",
   "execution_count": null,
   "id": "93d5fa21",
   "metadata": {},
   "outputs": [],
   "source": []
  },
  {
   "cell_type": "code",
   "execution_count": null,
   "id": "567242ef",
   "metadata": {},
   "outputs": [],
   "source": []
  },
  {
   "cell_type": "code",
   "execution_count": null,
   "id": "f4b283d0",
   "metadata": {},
   "outputs": [],
   "source": []
  },
  {
   "cell_type": "code",
   "execution_count": null,
   "id": "486963cd",
   "metadata": {},
   "outputs": [],
   "source": []
  },
  {
   "cell_type": "code",
   "execution_count": null,
   "id": "3e12de63",
   "metadata": {},
   "outputs": [],
   "source": []
  },
  {
   "cell_type": "code",
   "execution_count": null,
   "id": "d6c0a752",
   "metadata": {},
   "outputs": [],
   "source": []
  },
  {
   "cell_type": "code",
   "execution_count": null,
   "id": "33f10bed",
   "metadata": {},
   "outputs": [],
   "source": []
  },
  {
   "cell_type": "code",
   "execution_count": null,
   "id": "69541bb8",
   "metadata": {},
   "outputs": [],
   "source": []
  },
  {
   "cell_type": "code",
   "execution_count": null,
   "id": "9bf2ae70",
   "metadata": {},
   "outputs": [],
   "source": []
  },
  {
   "cell_type": "code",
   "execution_count": null,
   "id": "9dd1756e",
   "metadata": {},
   "outputs": [],
   "source": []
  },
  {
   "cell_type": "code",
   "execution_count": null,
   "id": "cb738b70",
   "metadata": {},
   "outputs": [],
   "source": []
  },
  {
   "cell_type": "code",
   "execution_count": null,
   "id": "ecbae352",
   "metadata": {},
   "outputs": [],
   "source": []
  },
  {
   "cell_type": "code",
   "execution_count": null,
   "id": "04867af3",
   "metadata": {},
   "outputs": [],
   "source": []
  },
  {
   "cell_type": "code",
   "execution_count": null,
   "id": "b5586cee",
   "metadata": {},
   "outputs": [],
   "source": []
  },
  {
   "cell_type": "code",
   "execution_count": null,
   "id": "141360b1",
   "metadata": {},
   "outputs": [],
   "source": []
  },
  {
   "cell_type": "code",
   "execution_count": null,
   "id": "8fe079bd",
   "metadata": {},
   "outputs": [],
   "source": []
  },
  {
   "cell_type": "code",
   "execution_count": null,
   "id": "5f27f734",
   "metadata": {},
   "outputs": [],
   "source": [
    "23\n"
   ]
  },
  {
   "cell_type": "code",
   "execution_count": null,
   "id": "b465fdda",
   "metadata": {},
   "outputs": [],
   "source": [
    "2324"
   ]
  },
  {
   "cell_type": "code",
   "execution_count": null,
   "id": "e8c66944",
   "metadata": {},
   "outputs": [],
   "source": []
  },
  {
   "cell_type": "code",
   "execution_count": null,
   "id": "6dcb45d7",
   "metadata": {},
   "outputs": [],
   "source": [
    "41243\n"
   ]
  },
  {
   "cell_type": "code",
   "execution_count": null,
   "id": "f0f6d929",
   "metadata": {},
   "outputs": [],
   "source": []
  },
  {
   "cell_type": "code",
   "execution_count": null,
   "id": "58880d87",
   "metadata": {},
   "outputs": [],
   "source": []
  },
  {
   "cell_type": "code",
   "execution_count": null,
   "id": "912a829a",
   "metadata": {},
   "outputs": [],
   "source": []
  },
  {
   "cell_type": "code",
   "execution_count": null,
   "id": "78f0d095",
   "metadata": {},
   "outputs": [],
   "source": []
  },
  {
   "cell_type": "code",
   "execution_count": null,
   "id": "55ff422e",
   "metadata": {},
   "outputs": [],
   "source": []
  },
  {
   "cell_type": "code",
   "execution_count": null,
   "id": "e51f3d6f",
   "metadata": {},
   "outputs": [],
   "source": []
  },
  {
   "cell_type": "code",
   "execution_count": null,
   "id": "9c384d73",
   "metadata": {},
   "outputs": [],
   "source": []
  },
  {
   "cell_type": "code",
   "execution_count": null,
   "id": "571a0c45",
   "metadata": {},
   "outputs": [],
   "source": []
  },
  {
   "cell_type": "code",
   "execution_count": null,
   "id": "59a9f7fe",
   "metadata": {},
   "outputs": [],
   "source": []
  },
  {
   "cell_type": "code",
   "execution_count": null,
   "id": "662db29b",
   "metadata": {},
   "outputs": [],
   "source": []
  },
  {
   "cell_type": "code",
   "execution_count": null,
   "id": "f55909c0",
   "metadata": {},
   "outputs": [],
   "source": []
  },
  {
   "cell_type": "code",
   "execution_count": null,
   "id": "64cf92d3",
   "metadata": {},
   "outputs": [],
   "source": []
  },
  {
   "cell_type": "code",
   "execution_count": null,
   "id": "786bb46f",
   "metadata": {},
   "outputs": [],
   "source": []
  },
  {
   "cell_type": "code",
   "execution_count": null,
   "id": "cf002f09",
   "metadata": {},
   "outputs": [],
   "source": []
  },
  {
   "cell_type": "code",
   "execution_count": null,
   "id": "b97d562a",
   "metadata": {},
   "outputs": [],
   "source": []
  },
  {
   "cell_type": "code",
   "execution_count": null,
   "id": "744debaa",
   "metadata": {},
   "outputs": [],
   "source": []
  },
  {
   "cell_type": "code",
   "execution_count": null,
   "id": "73cd43f6",
   "metadata": {},
   "outputs": [],
   "source": []
  },
  {
   "cell_type": "code",
   "execution_count": null,
   "id": "685795dc",
   "metadata": {},
   "outputs": [],
   "source": []
  },
  {
   "cell_type": "code",
   "execution_count": null,
   "id": "944b354c",
   "metadata": {},
   "outputs": [],
   "source": []
  },
  {
   "cell_type": "code",
   "execution_count": null,
   "id": "5ad6550f",
   "metadata": {},
   "outputs": [],
   "source": []
  },
  {
   "cell_type": "code",
   "execution_count": null,
   "id": "92a2010c",
   "metadata": {},
   "outputs": [],
   "source": []
  },
  {
   "cell_type": "code",
   "execution_count": null,
   "id": "1cb809d1",
   "metadata": {},
   "outputs": [],
   "source": []
  },
  {
   "cell_type": "code",
   "execution_count": null,
   "id": "af322d1c",
   "metadata": {},
   "outputs": [],
   "source": []
  },
  {
   "cell_type": "code",
   "execution_count": null,
   "id": "a1b6df9d",
   "metadata": {},
   "outputs": [],
   "source": []
  },
  {
   "cell_type": "code",
   "execution_count": null,
   "id": "82f45468",
   "metadata": {},
   "outputs": [],
   "source": []
  },
  {
   "cell_type": "code",
   "execution_count": null,
   "id": "881cfcea",
   "metadata": {},
   "outputs": [],
   "source": []
  },
  {
   "cell_type": "code",
   "execution_count": null,
   "id": "afa48970",
   "metadata": {},
   "outputs": [],
   "source": []
  },
  {
   "cell_type": "code",
   "execution_count": null,
   "id": "43095049",
   "metadata": {},
   "outputs": [],
   "source": []
  },
  {
   "cell_type": "code",
   "execution_count": null,
   "id": "204737dc",
   "metadata": {},
   "outputs": [],
   "source": []
  },
  {
   "cell_type": "code",
   "execution_count": null,
   "id": "d9d4d402",
   "metadata": {},
   "outputs": [],
   "source": []
  },
  {
   "cell_type": "code",
   "execution_count": null,
   "id": "1dd74eb4",
   "metadata": {},
   "outputs": [],
   "source": []
  },
  {
   "cell_type": "code",
   "execution_count": null,
   "id": "5909d36f",
   "metadata": {},
   "outputs": [],
   "source": []
  },
  {
   "cell_type": "code",
   "execution_count": null,
   "id": "969cf9ae",
   "metadata": {},
   "outputs": [],
   "source": []
  },
  {
   "cell_type": "code",
   "execution_count": null,
   "id": "312f6a53",
   "metadata": {},
   "outputs": [],
   "source": []
  },
  {
   "cell_type": "code",
   "execution_count": null,
   "id": "75d2a1b5",
   "metadata": {},
   "outputs": [],
   "source": []
  },
  {
   "cell_type": "code",
   "execution_count": null,
   "id": "cc41e64e",
   "metadata": {},
   "outputs": [],
   "source": []
  },
  {
   "cell_type": "code",
   "execution_count": null,
   "id": "8e648524",
   "metadata": {},
   "outputs": [],
   "source": []
  },
  {
   "cell_type": "code",
   "execution_count": null,
   "id": "062331f1",
   "metadata": {},
   "outputs": [],
   "source": []
  },
  {
   "cell_type": "code",
   "execution_count": null,
   "id": "3c3373fa",
   "metadata": {},
   "outputs": [],
   "source": []
  },
  {
   "cell_type": "code",
   "execution_count": null,
   "id": "7eaf5819",
   "metadata": {},
   "outputs": [],
   "source": []
  },
  {
   "cell_type": "code",
   "execution_count": null,
   "id": "1b1466cd",
   "metadata": {},
   "outputs": [],
   "source": []
  },
  {
   "cell_type": "code",
   "execution_count": null,
   "id": "1344b3e2",
   "metadata": {},
   "outputs": [],
   "source": []
  },
  {
   "cell_type": "code",
   "execution_count": null,
   "id": "2f3b3d61",
   "metadata": {},
   "outputs": [],
   "source": []
  },
  {
   "cell_type": "code",
   "execution_count": null,
   "id": "7c7c4eef",
   "metadata": {},
   "outputs": [],
   "source": []
  },
  {
   "cell_type": "code",
   "execution_count": null,
   "id": "4063f86b",
   "metadata": {},
   "outputs": [],
   "source": []
  },
  {
   "cell_type": "code",
   "execution_count": null,
   "id": "ffabe1d8",
   "metadata": {},
   "outputs": [],
   "source": []
  },
  {
   "cell_type": "code",
   "execution_count": null,
   "id": "76ce142a",
   "metadata": {},
   "outputs": [],
   "source": []
  },
  {
   "cell_type": "code",
   "execution_count": null,
   "id": "d2f91e4e",
   "metadata": {},
   "outputs": [],
   "source": []
  },
  {
   "cell_type": "code",
   "execution_count": null,
   "id": "0f121c79",
   "metadata": {},
   "outputs": [],
   "source": []
  },
  {
   "cell_type": "code",
   "execution_count": null,
   "id": "4b6494f0",
   "metadata": {},
   "outputs": [],
   "source": []
  },
  {
   "cell_type": "code",
   "execution_count": null,
   "id": "27210a69",
   "metadata": {},
   "outputs": [],
   "source": []
  },
  {
   "cell_type": "code",
   "execution_count": null,
   "id": "f1011033",
   "metadata": {},
   "outputs": [],
   "source": []
  },
  {
   "cell_type": "code",
   "execution_count": null,
   "id": "4050c516",
   "metadata": {},
   "outputs": [],
   "source": []
  },
  {
   "cell_type": "code",
   "execution_count": null,
   "id": "e05f89db",
   "metadata": {},
   "outputs": [],
   "source": []
  },
  {
   "cell_type": "code",
   "execution_count": null,
   "id": "f620dd0f",
   "metadata": {},
   "outputs": [],
   "source": []
  },
  {
   "cell_type": "code",
   "execution_count": null,
   "id": "ea6651bb",
   "metadata": {},
   "outputs": [],
   "source": []
  },
  {
   "cell_type": "code",
   "execution_count": null,
   "id": "1f06dbe2",
   "metadata": {},
   "outputs": [],
   "source": []
  },
  {
   "cell_type": "code",
   "execution_count": null,
   "id": "7ec6d118",
   "metadata": {},
   "outputs": [],
   "source": []
  },
  {
   "cell_type": "code",
   "execution_count": null,
   "id": "9a1c05db",
   "metadata": {},
   "outputs": [],
   "source": []
  },
  {
   "cell_type": "code",
   "execution_count": null,
   "id": "bc3274a2",
   "metadata": {},
   "outputs": [],
   "source": []
  },
  {
   "cell_type": "code",
   "execution_count": null,
   "id": "f1a06b37",
   "metadata": {},
   "outputs": [],
   "source": []
  },
  {
   "cell_type": "code",
   "execution_count": null,
   "id": "ed754c27",
   "metadata": {},
   "outputs": [],
   "source": []
  },
  {
   "cell_type": "code",
   "execution_count": null,
   "id": "6192c3bd",
   "metadata": {},
   "outputs": [],
   "source": []
  },
  {
   "cell_type": "code",
   "execution_count": null,
   "id": "da9164ef",
   "metadata": {},
   "outputs": [],
   "source": []
  },
  {
   "cell_type": "code",
   "execution_count": null,
   "id": "f486aa8a",
   "metadata": {},
   "outputs": [],
   "source": []
  },
  {
   "cell_type": "code",
   "execution_count": null,
   "id": "a8ec088b",
   "metadata": {},
   "outputs": [],
   "source": []
  },
  {
   "cell_type": "code",
   "execution_count": null,
   "id": "4ff47fa2",
   "metadata": {},
   "outputs": [],
   "source": []
  },
  {
   "cell_type": "code",
   "execution_count": null,
   "id": "7dd26cef",
   "metadata": {},
   "outputs": [],
   "source": []
  },
  {
   "cell_type": "code",
   "execution_count": null,
   "id": "3a5c29ee",
   "metadata": {},
   "outputs": [],
   "source": []
  },
  {
   "cell_type": "code",
   "execution_count": null,
   "id": "1549a9e9",
   "metadata": {},
   "outputs": [],
   "source": []
  },
  {
   "cell_type": "code",
   "execution_count": null,
   "id": "2e66ca35",
   "metadata": {},
   "outputs": [],
   "source": []
  },
  {
   "cell_type": "code",
   "execution_count": null,
   "id": "a0419c43",
   "metadata": {},
   "outputs": [],
   "source": []
  },
  {
   "cell_type": "code",
   "execution_count": null,
   "id": "6c90a85d",
   "metadata": {},
   "outputs": [],
   "source": []
  },
  {
   "cell_type": "code",
   "execution_count": null,
   "id": "a67fb199",
   "metadata": {},
   "outputs": [],
   "source": []
  },
  {
   "cell_type": "code",
   "execution_count": null,
   "id": "f463db07",
   "metadata": {},
   "outputs": [],
   "source": []
  },
  {
   "cell_type": "code",
   "execution_count": null,
   "id": "c76d00c3",
   "metadata": {},
   "outputs": [],
   "source": []
  },
  {
   "cell_type": "code",
   "execution_count": null,
   "id": "8a51ac55",
   "metadata": {},
   "outputs": [],
   "source": []
  },
  {
   "cell_type": "code",
   "execution_count": null,
   "id": "e68ec869",
   "metadata": {},
   "outputs": [],
   "source": []
  },
  {
   "cell_type": "code",
   "execution_count": null,
   "id": "e932ba7a",
   "metadata": {},
   "outputs": [],
   "source": []
  },
  {
   "cell_type": "code",
   "execution_count": null,
   "id": "22cf7446",
   "metadata": {},
   "outputs": [],
   "source": []
  },
  {
   "cell_type": "code",
   "execution_count": null,
   "id": "ffe1042f",
   "metadata": {},
   "outputs": [],
   "source": []
  },
  {
   "cell_type": "code",
   "execution_count": null,
   "id": "26281463",
   "metadata": {},
   "outputs": [],
   "source": []
  },
  {
   "cell_type": "code",
   "execution_count": null,
   "id": "1f156a74",
   "metadata": {},
   "outputs": [],
   "source": []
  },
  {
   "cell_type": "code",
   "execution_count": null,
   "id": "a2dc5e01",
   "metadata": {},
   "outputs": [],
   "source": []
  },
  {
   "cell_type": "code",
   "execution_count": null,
   "id": "155e2743",
   "metadata": {},
   "outputs": [],
   "source": []
  },
  {
   "cell_type": "code",
   "execution_count": null,
   "id": "6d070c6b",
   "metadata": {},
   "outputs": [],
   "source": []
  },
  {
   "cell_type": "code",
   "execution_count": null,
   "id": "82b5a9ef",
   "metadata": {},
   "outputs": [],
   "source": []
  },
  {
   "cell_type": "code",
   "execution_count": null,
   "id": "a51eeab3",
   "metadata": {},
   "outputs": [],
   "source": []
  },
  {
   "cell_type": "code",
   "execution_count": null,
   "id": "3f3d2a49",
   "metadata": {},
   "outputs": [],
   "source": []
  },
  {
   "cell_type": "code",
   "execution_count": null,
   "id": "758d1c70",
   "metadata": {},
   "outputs": [],
   "source": []
  },
  {
   "cell_type": "code",
   "execution_count": null,
   "id": "cdc20f1d",
   "metadata": {},
   "outputs": [],
   "source": []
  },
  {
   "cell_type": "code",
   "execution_count": null,
   "id": "a8a61b75",
   "metadata": {},
   "outputs": [],
   "source": []
  },
  {
   "cell_type": "code",
   "execution_count": null,
   "id": "b591bba6",
   "metadata": {},
   "outputs": [],
   "source": []
  },
  {
   "cell_type": "code",
   "execution_count": null,
   "id": "7bb21405",
   "metadata": {},
   "outputs": [],
   "source": []
  },
  {
   "cell_type": "code",
   "execution_count": null,
   "id": "0725accb",
   "metadata": {},
   "outputs": [],
   "source": []
  },
  {
   "cell_type": "code",
   "execution_count": null,
   "id": "04b3e41a",
   "metadata": {},
   "outputs": [],
   "source": []
  },
  {
   "cell_type": "code",
   "execution_count": null,
   "id": "1a4fd2b6",
   "metadata": {},
   "outputs": [],
   "source": []
  },
  {
   "cell_type": "code",
   "execution_count": null,
   "id": "e2c67945",
   "metadata": {},
   "outputs": [],
   "source": []
  },
  {
   "cell_type": "code",
   "execution_count": null,
   "id": "7f4ed96e",
   "metadata": {},
   "outputs": [],
   "source": []
  },
  {
   "cell_type": "code",
   "execution_count": null,
   "id": "4d24aa3f",
   "metadata": {},
   "outputs": [],
   "source": []
  },
  {
   "cell_type": "code",
   "execution_count": null,
   "id": "98cce484",
   "metadata": {},
   "outputs": [],
   "source": []
  },
  {
   "cell_type": "code",
   "execution_count": null,
   "id": "d455c3e0",
   "metadata": {},
   "outputs": [],
   "source": []
  },
  {
   "cell_type": "code",
   "execution_count": null,
   "id": "3b389265",
   "metadata": {},
   "outputs": [],
   "source": []
  },
  {
   "cell_type": "code",
   "execution_count": null,
   "id": "e4e9169f",
   "metadata": {},
   "outputs": [],
   "source": []
  },
  {
   "cell_type": "code",
   "execution_count": null,
   "id": "cad61124",
   "metadata": {},
   "outputs": [],
   "source": []
  },
  {
   "cell_type": "code",
   "execution_count": null,
   "id": "35d6909d",
   "metadata": {},
   "outputs": [],
   "source": []
  },
  {
   "cell_type": "code",
   "execution_count": null,
   "id": "114136bb",
   "metadata": {},
   "outputs": [],
   "source": []
  },
  {
   "cell_type": "code",
   "execution_count": null,
   "id": "79d57730",
   "metadata": {},
   "outputs": [],
   "source": []
  },
  {
   "cell_type": "code",
   "execution_count": null,
   "id": "bb1c312b",
   "metadata": {},
   "outputs": [],
   "source": []
  },
  {
   "cell_type": "code",
   "execution_count": null,
   "id": "af9ec328",
   "metadata": {},
   "outputs": [],
   "source": []
  },
  {
   "cell_type": "code",
   "execution_count": null,
   "id": "c5746e82",
   "metadata": {},
   "outputs": [],
   "source": []
  },
  {
   "cell_type": "code",
   "execution_count": null,
   "id": "8f2b9311",
   "metadata": {},
   "outputs": [],
   "source": []
  },
  {
   "cell_type": "code",
   "execution_count": null,
   "id": "ed386a01",
   "metadata": {},
   "outputs": [],
   "source": []
  },
  {
   "cell_type": "code",
   "execution_count": null,
   "id": "05a311a3",
   "metadata": {},
   "outputs": [],
   "source": []
  },
  {
   "cell_type": "code",
   "execution_count": null,
   "id": "513cb172",
   "metadata": {},
   "outputs": [],
   "source": []
  },
  {
   "cell_type": "code",
   "execution_count": null,
   "id": "24f79bc4",
   "metadata": {},
   "outputs": [],
   "source": []
  },
  {
   "cell_type": "code",
   "execution_count": null,
   "id": "28bb293b",
   "metadata": {},
   "outputs": [],
   "source": []
  },
  {
   "cell_type": "code",
   "execution_count": null,
   "id": "a6156d4f",
   "metadata": {},
   "outputs": [],
   "source": []
  },
  {
   "cell_type": "code",
   "execution_count": null,
   "id": "7dda834c",
   "metadata": {},
   "outputs": [],
   "source": []
  },
  {
   "cell_type": "code",
   "execution_count": null,
   "id": "52af7aef",
   "metadata": {},
   "outputs": [],
   "source": []
  },
  {
   "cell_type": "code",
   "execution_count": null,
   "id": "5a6b32b4",
   "metadata": {},
   "outputs": [],
   "source": []
  },
  {
   "cell_type": "code",
   "execution_count": null,
   "id": "e10b74fb",
   "metadata": {},
   "outputs": [],
   "source": []
  },
  {
   "cell_type": "code",
   "execution_count": null,
   "id": "866083ab",
   "metadata": {},
   "outputs": [],
   "source": []
  },
  {
   "cell_type": "code",
   "execution_count": null,
   "id": "01eeffa8",
   "metadata": {},
   "outputs": [],
   "source": []
  },
  {
   "cell_type": "code",
   "execution_count": null,
   "id": "8e010244",
   "metadata": {},
   "outputs": [],
   "source": []
  },
  {
   "cell_type": "code",
   "execution_count": null,
   "id": "c0eb5c7a",
   "metadata": {},
   "outputs": [],
   "source": []
  }
 ],
 "metadata": {
  "kernelspec": {
   "display_name": "Python 3 (ipykernel)",
   "language": "python",
   "name": "python3"
  },
  "language_info": {
   "codemirror_mode": {
    "name": "ipython",
    "version": 3
   },
   "file_extension": ".py",
   "mimetype": "text/x-python",
   "name": "python",
   "nbconvert_exporter": "python",
   "pygments_lexer": "ipython3",
   "version": "3.9.12"
  }
 },
 "nbformat": 4,
 "nbformat_minor": 5
}
